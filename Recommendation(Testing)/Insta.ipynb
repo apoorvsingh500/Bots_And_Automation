{
 "cells": [
  {
   "cell_type": "code",
   "execution_count": 1,
   "metadata": {
    "ExecuteTime": {
     "end_time": "2020-08-16T15:44:45.448766Z",
     "start_time": "2020-08-16T15:44:40.777520Z"
    }
   },
   "outputs": [
    {
     "data": {
      "text/html": [
       "<style>.container { width:100% !important; }</style>"
      ],
      "text/plain": [
       "<IPython.core.display.HTML object>"
      ]
     },
     "metadata": {},
     "output_type": "display_data"
    }
   ],
   "source": [
    "from instagram_private_api import Client, ClientCompatPatch\n",
    "from instagram.client import InstagramAPI\n",
    "from IPython.core.display import display, HTML\n",
    "display(HTML(\"<style>.container { width:100% !important; }</style>\"))\n",
    "import instaloader\n",
    "import time\n",
    "import random"
   ]
  },
  {
   "cell_type": "code",
   "execution_count": 2,
   "metadata": {
    "ExecuteTime": {
     "end_time": "2020-08-16T15:44:56.746596Z",
     "start_time": "2020-08-16T15:44:45.470705Z"
    }
   },
   "outputs": [],
   "source": [
    "L = instaloader.Instaloader()\n",
    "user_name = 'partyherdapp'\n",
    "password = 'AUX-IN-01-partyherd'\n",
    "L.login(user_name, password)        # (login)\n",
    "api = Client(user_name, password)\n",
    "results = api.feed_timeline()\n",
    "items = [item for item in results.get('feed_items', [])\n",
    "         if item.get('media_or_ad')]\n",
    "# for item in items:\n",
    "#     ClientCompatPatch.media(item['media_or_ad'])\n",
    "#     print(item['media_or_ad']['code'])"
   ]
  },
  {
   "cell_type": "code",
   "execution_count": 3,
   "metadata": {
    "ExecuteTime": {
     "end_time": "2020-08-13T09:42:56.792650Z",
     "start_time": "2020-08-13T09:42:56.788349Z"
    }
   },
   "outputs": [],
   "source": [
    "\n",
    "####DUMPPPPP\n",
    "# x = api.user_recent_media(427553890, 1)\n",
    "# # api.media_comments(media_id)\n",
    "# # api.create_media_comment(media_id, text)\n",
    "# print(api.search_users(\"apoorv_singh12\").keys())\n",
    "# #CHECK USING A GIVEN USERNAME\n",
    "# print(api.search_users(\"leomessi\")[\"users\"][0])\n",
    "# print(api.top_search(\"#quarantine\")[\"hashtags\"][1])\n",
    "# for i in range(len(api.user_feed(427553890)['items'][0]['carousel_media'])):\n",
    "# xxx = api.generate_uuid(return_hex=False)\n",
    "# doc = api.user_followers(427553890, rank_token=xxx)['users']\n",
    "# for d in range(len(doc)):\n",
    "#     print(d, doc[d]['username'])\n",
    "# doc = api.user_following(427553890, rank_token=xxx)['users']\n",
    "# for d in range(len(doc)):\n",
    "#     print(d, doc[d]['username'])\n",
    "####################################################\n",
    "# profile = instaloader.Profile.from_username(L.context, \"dragon.ball.id\")\n",
    "# count=0\n",
    "# file = open(\"my_followers.txt\",\"a+\")\n",
    "# for followee in profile.get_followers():\n",
    "#     username = followee.username\n",
    "#     print(count, username)\n",
    "#     count+=1\n",
    "#     file.write(username + \"\\n\")\n",
    "#     if(count == 500):\n",
    "#         time.sleep(random.randint(300,360))\n",
    "# file.close()"
   ]
  },
  {
   "cell_type": "markdown",
   "metadata": {},
   "source": [
    "# Required Functions"
   ]
  },
  {
   "cell_type": "code",
   "execution_count": 3,
   "metadata": {
    "ExecuteTime": {
     "end_time": "2020-08-16T15:44:56.780726Z",
     "start_time": "2020-08-16T15:44:56.773995Z"
    }
   },
   "outputs": [],
   "source": [
    "def funclike(username,count):\n",
    "    tmp = 0\n",
    "    profile = instaloader.Profile.from_username(L.context, username)\n",
    "    allposts = profile.get_posts()\n",
    "    for post in allposts:\n",
    "        if tmp >=2:\n",
    "            break\n",
    "        try:\n",
    "            api.post_like(post.mediaid)\n",
    "            count+=1\n",
    "            tmp+=1\n",
    "            print(\"post \",tmp)\n",
    "        except:\n",
    "            print(\"error\")\n",
    "            continue\n",
    "    return count\n",
    "def retrieve_last_seen_id(file_name):\n",
    "    f_read = open(file_name, 'r')\n",
    "    last_seen_id = f_read.readlines()\n",
    "    f_read.close()\n",
    "    return last_seen_id\n",
    "def store_last_seen_id(last_seen_id, file_name):\n",
    "    f_write = open(file_name, 'a')\n",
    "    f_write.write(last_seen_id)\n",
    "    f_write.write('\\n')\n",
    "    f_write.close()\n",
    "    return"
   ]
  },
  {
   "cell_type": "markdown",
   "metadata": {},
   "source": [
    "# Getting the Follower List"
   ]
  },
  {
   "cell_type": "code",
   "execution_count": null,
   "metadata": {
    "ExecuteTime": {
     "end_time": "2020-08-05T09:14:49.304085Z",
     "start_time": "2020-08-05T08:40:18.189747Z"
    }
   },
   "outputs": [],
   "source": [
    "profile = instaloader.Profile.from_username(L.context, \"houseconcertindia\")\n",
    "count=0\n",
    "file = open(\"my_followers.txt\",\"a+\")\n",
    "for followee in profile.get_followers():\n",
    "    username = followee.username\n",
    "    print(count, username)\n",
    "    count+=1\n",
    "    file.write(username + \"\\n\")\n",
    "    if(count == 500):\n",
    "        time.sleep(random.randint(300,360))\n",
    "file.close()"
   ]
  },
  {
   "cell_type": "markdown",
   "metadata": {},
   "source": [
    "# Commenting on the Followers"
   ]
  },
  {
   "cell_type": "code",
   "execution_count": 4,
   "metadata": {
    "ExecuteTime": {
     "end_time": "2020-08-16T15:52:18.592573Z",
     "start_time": "2020-08-16T15:44:56.797752Z"
    }
   },
   "outputs": [
    {
     "name": "stdout",
     "output_type": "stream",
     "text": [
      "0 sriram_v2\n",
      "post  1\n",
      "post  2\n",
      "2 ayanjoemusic\n",
      "post  1\n",
      "post  2\n",
      "4 artistiklicense\n",
      "post  1\n",
      "post  2\n",
      "6 man_a_f\n",
      "post  1\n",
      "post  2\n",
      "8 houseconcertchennai\n",
      "post  1\n",
      "post  2\n",
      "10 houseconcertbombay\n",
      "post  1\n",
      "post  2\n",
      "12 houseconcertpune\n",
      "post  1\n",
      "post  2\n",
      "14 houseconcertbangalore\n",
      "post  1\n",
      "post  2\n",
      "16 houseconcertchandigarh\n",
      "post  1\n",
      "post  2\n",
      "18 houseconcertsdelhi\n",
      "post  1\n",
      "post  2\n",
      "20 its_a.nil\n",
      "post  1\n",
      "post  2\n",
      "rajesiddhesh95  is private\n",
      "22 houseconcertgoa\n",
      "post  1\n",
      "post  2\n",
      "24 thisfrontier\n",
      "post  1\n",
      "post  2\n",
      "26 snehalsharma\n",
      "post  1\n",
      "post  2\n"
     ]
    }
   ],
   "source": [
    "# profile = instaloader.Profile.from_username(L.context, \"apoorv_singh12\")\n",
    "follow_list = []\n",
    "count=0\n",
    "totcount=0\n",
    "# file1 = open(\"my_followers_1.txt\",\"a+\")\n",
    "idd = retrieve_last_seen_id(\"my_followers.txt\")\n",
    "for idx in range(len(idd)):\n",
    "    username = idd[idx][:-1]\n",
    "    if(count >200):\n",
    "        break\n",
    "    try:\n",
    "        boool = instaloader.Profile.from_username(L.context, username).is_private\n",
    "    except:\n",
    "        print(\"acc doesnt exist\")\n",
    "        boool = True\n",
    "    if(boool == False):\n",
    "        print(count, username)\n",
    "        count = funclike(username,count)\n",
    "        time.sleep(random.randint(20,25))\n",
    "    else:\n",
    "        print(username, \" is private\")\n",
    "        time.sleep(random.randint(20,25))\n",
    "    totcount+=1\n",
    "# file.close()\n",
    "follow_list = idd[totcount:]\n",
    "open('my_followers.txt', 'w').close()\n",
    "f = open('my_followers.txt', 'w')\n",
    "for i in range(len(follow_list)):\n",
    "    f.write(follow_list[i][:-1] + \"\\n\")\n",
    "f.close()"
   ]
  },
  {
   "cell_type": "code",
   "execution_count": null,
   "metadata": {
    "ExecuteTime": {
     "end_time": "2020-07-31T14:47:35.632451Z",
     "start_time": "2020-07-31T14:47:35.614653Z"
    }
   },
   "outputs": [],
   "source": []
  },
  {
   "cell_type": "markdown",
   "metadata": {
    "ExecuteTime": {
     "end_time": "2020-08-04T12:41:56.187326Z",
     "start_time": "2020-08-04T12:41:53.469095Z"
    }
   },
   "source": [
    "# READING THE INSTA PROFILE"
   ]
  },
  {
   "cell_type": "code",
   "execution_count": 1,
   "metadata": {
    "ExecuteTime": {
     "end_time": "2020-08-08T14:58:11.656135Z",
     "start_time": "2020-08-08T14:58:11.641521Z"
    }
   },
   "outputs": [
    {
     "data": {
      "text/plain": [
       "dict_keys(['logging_page_id', 'show_suggested_profiles', 'show_follow_dialog', 'graphql', 'toast_content_on_load'])"
      ]
     },
     "execution_count": 1,
     "metadata": {},
     "output_type": "execute_result"
    }
   ],
   "source": [
    "# importing the module \n",
    "import json \n",
    "  \n",
    "# Opening JSON file \n",
    "with open('samay.json') as json_file: \n",
    "    data = json.load(json_file) \n",
    "##THE PAGE\n",
    "data.keys()"
   ]
  },
  {
   "cell_type": "code",
   "execution_count": 2,
   "metadata": {
    "ExecuteTime": {
     "end_time": "2020-08-08T14:58:15.136516Z",
     "start_time": "2020-08-08T14:58:15.133106Z"
    }
   },
   "outputs": [
    {
     "data": {
      "text/plain": [
       "dict_keys(['biography', 'blocked_by_viewer', 'restricted_by_viewer', 'country_block', 'external_url', 'external_url_linkshimmed', 'edge_followed_by', 'followed_by_viewer', 'edge_follow', 'follows_viewer', 'full_name', 'has_ar_effects', 'has_guides', 'has_channel', 'has_blocked_viewer', 'highlight_reel_count', 'has_requested_viewer', 'id', 'is_business_account', 'is_joined_recently', 'business_category_name', 'overall_category_name', 'category_enum', 'is_private', 'is_verified', 'edge_mutual_followed_by', 'profile_pic_url', 'profile_pic_url_hd', 'requested_by_viewer', 'username', 'connected_fb_page', 'edge_felix_video_timeline', 'edge_owner_to_timeline_media', 'edge_saved_media', 'edge_media_collections'])"
      ]
     },
     "execution_count": 2,
     "metadata": {},
     "output_type": "execute_result"
    }
   ],
   "source": [
    "##ALL INFO ABOUT USER\n",
    "data['graphql']['user'].keys()"
   ]
  },
  {
   "cell_type": "code",
   "execution_count": 3,
   "metadata": {
    "ExecuteTime": {
     "end_time": "2020-08-08T14:58:15.761112Z",
     "start_time": "2020-08-08T14:58:15.758294Z"
    }
   },
   "outputs": [
    {
     "data": {
      "text/plain": [
       "dict_keys(['count', 'page_info', 'edges'])"
      ]
     },
     "execution_count": 3,
     "metadata": {},
     "output_type": "execute_result"
    }
   ],
   "source": [
    "###ALL INFO ABOUT MEDIA\n",
    "data['graphql']['user']['edge_owner_to_timeline_media'].keys()"
   ]
  },
  {
   "cell_type": "code",
   "execution_count": 4,
   "metadata": {
    "ExecuteTime": {
     "end_time": "2020-08-08T14:58:16.387838Z",
     "start_time": "2020-08-08T14:58:16.382591Z"
    }
   },
   "outputs": [
    {
     "data": {
      "text/plain": [
       "{'has_next_page': True,\n",
       " 'end_cursor': 'QVFBR3VSQlNCNlh3Vkp0T2czWnd2Qi05V3ZhaWRqZmdmWEdwQ3NQSzFvcGZMRWduZkNpeFFESm1WYXd0ZFlEcWVmb0ZhZkE2SEoycHpvb1poLXBtUm1YUw=='}"
      ]
     },
     "execution_count": 4,
     "metadata": {},
     "output_type": "execute_result"
    }
   ],
   "source": [
    "data['graphql']['user']['edge_owner_to_timeline_media']['page_info']"
   ]
  },
  {
   "cell_type": "code",
   "execution_count": 5,
   "metadata": {
    "ExecuteTime": {
     "end_time": "2020-08-08T14:58:16.915364Z",
     "start_time": "2020-08-08T14:58:16.909606Z"
    }
   },
   "outputs": [
    {
     "data": {
      "text/plain": [
       "{'__typename': 'GraphVideo',\n",
       " 'id': '2352916532076427403',\n",
       " 'shortcode': 'CCnPR6gjziL',\n",
       " 'dimensions': {'height': 750, 'width': 750},\n",
       " 'display_url': 'https://scontent-bom1-2.cdninstagram.com/v/t51.2885-15/e35/108470186_185231066337776_6199943375259826728_n.jpg?_nc_ht=scontent-bom1-2.cdninstagram.com&_nc_cat=108&_nc_ohc=z8IEsp_BylYAX_FF6aP&oh=69c87eb330ff713acfc7a373c0da3c3c&oe=5F2B6792',\n",
       " 'gating_info': None,\n",
       " 'fact_check_overall_rating': None,\n",
       " 'fact_check_information': None,\n",
       " 'media_overlay_info': None,\n",
       " 'media_preview': 'ACoqsBaYybzj86lHJ4pspwMDvWyjzavfojNy5TONrJcANuwOy9gO34+tNktjbAMDuBOCKux7xwCMY446fWlZWdcPgng8dKw5mne52OCcbNFRlHrTdq+tTMR6UYHpSk3N+70FC1Ne91LhkHQVVnuFiGXPJ6Duap3VyYjtX7x/SstmLHJ5Ndzajotzy1B1fek7R7I24G84BhwT2ouGKxtsJBXnP41Dpcg5T3z+dTiRpGeN8Zxg+p7ZrkSvI9Jy90yxdydzn8Kf9tk9vyqqwwcHtTa1StsZPXcu6hHtcN6j+VUK1tSHA/3v6Vk1CldXBq2hraYACZO47eg9aIyQ+9ucsf1PJPtj8Ko27ESLg4zxVnPzv9QPzIzVpWdx30sRXa7ZD6HmqtaOodV/H+lZ1Mk//9k=',\n",
       " 'owner': {'id': '541673116', 'username': 'maisamayhoon'},\n",
       " 'is_video': True,\n",
       " 'accessibility_caption': None,\n",
       " 'edge_media_to_caption': {'edges': []},\n",
       " 'edge_media_to_comment': {'count': 186},\n",
       " 'comments_disabled': False,\n",
       " 'taken_at_timestamp': 1594709541,\n",
       " 'edge_liked_by': {'count': 9882},\n",
       " 'edge_media_preview_like': {'count': 9882},\n",
       " 'location': None,\n",
       " 'thumbnail_src': 'https://scontent-bom1-2.cdninstagram.com/v/t51.2885-15/sh0.08/e35/s640x640/108470186_185231066337776_6199943375259826728_n.jpg?_nc_ht=scontent-bom1-2.cdninstagram.com&_nc_cat=108&_nc_ohc=z8IEsp_BylYAX_FF6aP&oh=ac8fce2e662aea4dacee9a126132bf3c&oe=5F2B58EC',\n",
       " 'thumbnail_resources': [{'src': 'https://scontent-bom1-2.cdninstagram.com/v/t51.2885-15/e35/s150x150/108470186_185231066337776_6199943375259826728_n.jpg?_nc_ht=scontent-bom1-2.cdninstagram.com&_nc_cat=108&_nc_ohc=z8IEsp_BylYAX_FF6aP&oh=881f1799da8a00cd2927182b8ae6a3a6&oe=5F2B7F6F',\n",
       "   'config_width': 150,\n",
       "   'config_height': 150},\n",
       "  {'src': 'https://scontent-bom1-2.cdninstagram.com/v/t51.2885-15/e35/s240x240/108470186_185231066337776_6199943375259826728_n.jpg?_nc_ht=scontent-bom1-2.cdninstagram.com&_nc_cat=108&_nc_ohc=z8IEsp_BylYAX_FF6aP&oh=8ffa1daf51e56a91629f01e7ac183edd&oe=5F2B8C29',\n",
       "   'config_width': 240,\n",
       "   'config_height': 240},\n",
       "  {'src': 'https://scontent-bom1-2.cdninstagram.com/v/t51.2885-15/e35/s320x320/108470186_185231066337776_6199943375259826728_n.jpg?_nc_ht=scontent-bom1-2.cdninstagram.com&_nc_cat=108&_nc_ohc=z8IEsp_BylYAX_FF6aP&oh=2561d5fa3c5cecf8448aa2db16979d34&oe=5F2B9A57',\n",
       "   'config_width': 320,\n",
       "   'config_height': 320},\n",
       "  {'src': 'https://scontent-bom1-2.cdninstagram.com/v/t51.2885-15/e35/s480x480/108470186_185231066337776_6199943375259826728_n.jpg?_nc_ht=scontent-bom1-2.cdninstagram.com&_nc_cat=108&_nc_ohc=z8IEsp_BylYAX_FF6aP&oh=541d24dcb7a0f12ece73d04c62dd236f&oe=5F2BB412',\n",
       "   'config_width': 480,\n",
       "   'config_height': 480},\n",
       "  {'src': 'https://scontent-bom1-2.cdninstagram.com/v/t51.2885-15/sh0.08/e35/s640x640/108470186_185231066337776_6199943375259826728_n.jpg?_nc_ht=scontent-bom1-2.cdninstagram.com&_nc_cat=108&_nc_ohc=z8IEsp_BylYAX_FF6aP&oh=ac8fce2e662aea4dacee9a126132bf3c&oe=5F2B58EC',\n",
       "   'config_width': 640,\n",
       "   'config_height': 640}],\n",
       " 'felix_profile_grid_crop': None,\n",
       " 'video_view_count': 50192}"
      ]
     },
     "execution_count": 5,
     "metadata": {},
     "output_type": "execute_result"
    }
   ],
   "source": [
    "###FIRST POST\n",
    "data['graphql']['user']['edge_owner_to_timeline_media']['edges'][6]['node']\n",
    "# data['graphql']['user']['edge_owner_to_timeline_media']['edges'][3]['node']['edge_media_to_caption']['edges'][0]['node']['text']"
   ]
  },
  {
   "cell_type": "code",
   "execution_count": 7,
   "metadata": {
    "ExecuteTime": {
     "end_time": "2020-08-08T15:00:23.573015Z",
     "start_time": "2020-08-08T15:00:23.563471Z"
    }
   },
   "outputs": [
    {
     "name": "stdout",
     "output_type": "stream",
     "text": [
      "0 Happy Friendship Day\n",
      "1 Found an essay I had written 16 years ago. Sweet memories ♥️\n",
      "2 Caption this\n",
      "3 Check out my new JBL Club Series headphones with True Adaptive Noise Cancelling and JBL Legendary Pro Sound. It's engineered with world-class technology so that nothing comes between you and your music. Not even your neighbour. #JBL #DareToListen #WhereYourMusicAt #TuneInNoiseOut #ClubSeries #JBLLegendaryProSound\n",
      "4 Smiling but dead inside\n",
      "5 Thanks for this @thethugarmy\n",
      "\n",
      "@taniasachdev @viditchess @anishgiri94 @randomvarun @rahulsubramanic @tanmaybhat @karansinghmagic @missbotez\n",
      "6 no comment\n",
      "7 Don't you worry, don't you worry child, heaven's got no plan for youuu\n",
      "8 Thank you for #arrestshubhammishra\n",
      "9 Flex\n",
      "10 Although online dating has become a norm, that first conversation is still a nightmare to pull off. You want to come across as a good listener, but how many questions are too many? Or till when is it still early to ask her for her number? And how are emojis going to make me look? While there are many do's and don'ts of online dating, it just takes the right conversation to find a connection. @bumble_india makes it easier for you to get close to people you like, with their in-app features like Question Game and Video Call—you can start a magical first conversation, without having to dissect the science of texting! #StayFarGetClose\n",
      "11 Match schedule for tomorrow\n"
     ]
    }
   ],
   "source": [
    "#STORE ALL THE COMMENTS\n",
    "doc = \"\"\n",
    "i=0\n",
    "for post in data['graphql']['user']['edge_owner_to_timeline_media']['edges']:\n",
    "    try:\n",
    "        print(i,post['node']['edge_media_to_caption']['edges'][0]['node']['text'])\n",
    "        doc+= (post['node']['edge_media_to_caption']['edges'][0]['node']['text'])\n",
    "        doc+=\" \"\n",
    "    except:\n",
    "        print(i,\"no comment\")\n",
    "    i+=1"
   ]
  },
  {
   "cell_type": "code",
   "execution_count": 9,
   "metadata": {
    "ExecuteTime": {
     "end_time": "2020-08-08T15:03:51.875890Z",
     "start_time": "2020-08-08T15:03:51.873097Z"
    }
   },
   "outputs": [],
   "source": [
    "doc\n",
    "words = []\n",
    "texts_2 = [text for text in doc.split(' ')]"
   ]
  },
  {
   "cell_type": "code",
   "execution_count": 10,
   "metadata": {
    "ExecuteTime": {
     "end_time": "2020-08-08T15:03:58.041716Z",
     "start_time": "2020-08-08T15:03:58.035222Z"
    }
   },
   "outputs": [
    {
     "data": {
      "text/plain": [
       "['Happy',\n",
       " 'Friendship',\n",
       " 'Day',\n",
       " 'Found',\n",
       " 'an',\n",
       " 'essay',\n",
       " 'I',\n",
       " 'had',\n",
       " 'written',\n",
       " '16',\n",
       " 'years',\n",
       " 'ago.',\n",
       " 'Sweet',\n",
       " 'memories',\n",
       " '♥️',\n",
       " 'Caption',\n",
       " 'this',\n",
       " 'Check',\n",
       " 'out',\n",
       " 'my',\n",
       " 'new',\n",
       " 'JBL',\n",
       " 'Club',\n",
       " 'Series',\n",
       " 'headphones',\n",
       " 'with',\n",
       " 'True',\n",
       " 'Adaptive',\n",
       " 'Noise',\n",
       " 'Cancelling',\n",
       " 'and',\n",
       " 'JBL',\n",
       " 'Legendary',\n",
       " 'Pro',\n",
       " 'Sound.',\n",
       " \"It's\",\n",
       " 'engineered',\n",
       " 'with',\n",
       " 'world-class',\n",
       " 'technology',\n",
       " 'so',\n",
       " 'that',\n",
       " 'nothing',\n",
       " 'comes',\n",
       " 'between',\n",
       " 'you',\n",
       " 'and',\n",
       " 'your',\n",
       " 'music.',\n",
       " 'Not',\n",
       " 'even',\n",
       " 'your',\n",
       " 'neighbour.',\n",
       " '#JBL',\n",
       " '#DareToListen',\n",
       " '#WhereYourMusicAt',\n",
       " '#TuneInNoiseOut',\n",
       " '#ClubSeries',\n",
       " '#JBLLegendaryProSound',\n",
       " 'Smiling',\n",
       " 'but',\n",
       " 'dead',\n",
       " 'inside',\n",
       " 'Thanks',\n",
       " 'for',\n",
       " 'this',\n",
       " '@thethugarmy\\n\\n@taniasachdev',\n",
       " '@viditchess',\n",
       " '@anishgiri94',\n",
       " '@randomvarun',\n",
       " '@rahulsubramanic',\n",
       " '@tanmaybhat',\n",
       " '@karansinghmagic',\n",
       " '@missbotez',\n",
       " \"Don't\",\n",
       " 'you',\n",
       " 'worry,',\n",
       " \"don't\",\n",
       " 'you',\n",
       " 'worry',\n",
       " 'child,',\n",
       " \"heaven's\",\n",
       " 'got',\n",
       " 'no',\n",
       " 'plan',\n",
       " 'for',\n",
       " 'youuu',\n",
       " 'Thank',\n",
       " 'you',\n",
       " 'for',\n",
       " '#arrestshubhammishra',\n",
       " 'Flex',\n",
       " 'Although',\n",
       " 'online',\n",
       " 'dating',\n",
       " 'has',\n",
       " 'become',\n",
       " 'a',\n",
       " 'norm,',\n",
       " 'that',\n",
       " 'first',\n",
       " 'conversation',\n",
       " 'is',\n",
       " 'still',\n",
       " 'a',\n",
       " 'nightmare',\n",
       " 'to',\n",
       " 'pull',\n",
       " 'off.',\n",
       " 'You',\n",
       " 'want',\n",
       " 'to',\n",
       " 'come',\n",
       " 'across',\n",
       " 'as',\n",
       " 'a',\n",
       " 'good',\n",
       " 'listener,',\n",
       " 'but',\n",
       " 'how',\n",
       " 'many',\n",
       " 'questions',\n",
       " 'are',\n",
       " 'too',\n",
       " 'many?',\n",
       " 'Or',\n",
       " 'till',\n",
       " 'when',\n",
       " 'is',\n",
       " 'it',\n",
       " 'still',\n",
       " 'early',\n",
       " 'to',\n",
       " 'ask',\n",
       " 'her',\n",
       " 'for',\n",
       " 'her',\n",
       " 'number?',\n",
       " 'And',\n",
       " 'how',\n",
       " 'are',\n",
       " 'emojis',\n",
       " 'going',\n",
       " 'to',\n",
       " 'make',\n",
       " 'me',\n",
       " 'look?',\n",
       " 'While',\n",
       " 'there',\n",
       " 'are',\n",
       " 'many',\n",
       " \"do's\",\n",
       " 'and',\n",
       " \"don'ts\",\n",
       " 'of',\n",
       " 'online',\n",
       " 'dating,',\n",
       " 'it',\n",
       " 'just',\n",
       " 'takes',\n",
       " 'the',\n",
       " 'right',\n",
       " 'conversation',\n",
       " 'to',\n",
       " 'find',\n",
       " 'a',\n",
       " 'connection.',\n",
       " '@bumble_india',\n",
       " 'makes',\n",
       " 'it',\n",
       " 'easier',\n",
       " 'for',\n",
       " 'you',\n",
       " 'to',\n",
       " 'get',\n",
       " 'close',\n",
       " 'to',\n",
       " 'people',\n",
       " 'you',\n",
       " 'like,',\n",
       " 'with',\n",
       " 'their',\n",
       " 'in-app',\n",
       " 'features',\n",
       " 'like',\n",
       " 'Question',\n",
       " 'Game',\n",
       " 'and',\n",
       " 'Video',\n",
       " 'Call—you',\n",
       " 'can',\n",
       " 'start',\n",
       " 'a',\n",
       " 'magical',\n",
       " 'first',\n",
       " 'conversation,',\n",
       " 'without',\n",
       " 'having',\n",
       " 'to',\n",
       " 'dissect',\n",
       " 'the',\n",
       " 'science',\n",
       " 'of',\n",
       " 'texting!',\n",
       " '#StayFarGetClose',\n",
       " 'Match',\n",
       " 'schedule',\n",
       " 'for',\n",
       " 'tomorrow',\n",
       " '']"
      ]
     },
     "execution_count": 10,
     "metadata": {},
     "output_type": "execute_result"
    }
   ],
   "source": [
    "texts_2"
   ]
  },
  {
   "cell_type": "code",
   "execution_count": null,
   "metadata": {
    "ExecuteTime": {
     "end_time": "2020-08-04T17:28:28.090721Z",
     "start_time": "2020-08-04T17:28:28.082076Z"
    }
   },
   "outputs": [],
   "source": [
    "# importing the module \n",
    "import json \n",
    "  \n",
    "# Opening JSON file \n",
    "with open('samaytmp.json') as json_file: \n",
    "    data = json.load(json_file) \n",
    "##THE PAGE\n",
    "data.keys()"
   ]
  },
  {
   "cell_type": "code",
   "execution_count": null,
   "metadata": {
    "ExecuteTime": {
     "end_time": "2020-08-04T16:37:38.448241Z",
     "start_time": "2020-08-04T16:37:38.443723Z"
    }
   },
   "outputs": [],
   "source": [
    "# i=0\n",
    "# for post in data['graphql']['hashtag']['edge_hashtag_to_media']['edges']:\n",
    "#     try:\n",
    "#         print(i,post['node']['edge_media_to_caption']['edges'][0]['node']['text'])\n",
    "#     except:\n",
    "#         print(i,\"no comment\")\n",
    "#     i+=1\n",
    "# # data['graphql']['hashtag']['edge_hashtag_to_media']['edges'][1]['node']['edge_media_to_caption']['edges'][0]['node']['text']"
   ]
  },
  {
   "cell_type": "code",
   "execution_count": null,
   "metadata": {
    "ExecuteTime": {
     "end_time": "2020-08-04T17:28:33.743310Z",
     "start_time": "2020-08-04T17:28:33.734234Z"
    }
   },
   "outputs": [],
   "source": [
    "i=0\n",
    "for post in data['graphql']['user']['edge_owner_to_timeline_media']['edges']:\n",
    "    try:\n",
    "        print(i,post['node']['edge_media_to_caption']['edges'][0]['node']['text'])\n",
    "    except:\n",
    "        print(i,\"no comment\")\n",
    "    i+=1"
   ]
  },
  {
   "cell_type": "code",
   "execution_count": null,
   "metadata": {
    "ExecuteTime": {
     "end_time": "2020-08-04T17:27:33.638035Z",
     "start_time": "2020-08-04T17:27:33.632646Z"
    }
   },
   "outputs": [],
   "source": [
    "data['graphql']['user'].keys()"
   ]
  },
  {
   "cell_type": "code",
   "execution_count": null,
   "metadata": {
    "ExecuteTime": {
     "end_time": "2020-08-04T17:27:46.098754Z",
     "start_time": "2020-08-04T17:27:46.072331Z"
    }
   },
   "outputs": [],
   "source": [
    "data['graphql']['user']['edge_owner_to_timeline_media']"
   ]
  },
  {
   "cell_type": "markdown",
   "metadata": {},
   "source": [
    "# Reading the Glove Text File"
   ]
  },
  {
   "cell_type": "code",
   "execution_count": 5,
   "metadata": {
    "ExecuteTime": {
     "end_time": "2020-08-08T13:51:38.042651Z",
     "start_time": "2020-08-08T13:51:33.996729Z"
    }
   },
   "outputs": [],
   "source": [
    "\n",
    "import numpy as np\n",
    "from scipy import spatial\n",
    "import matplotlib.pyplot as plt\n",
    "from sklearn.manifold import TSNE"
   ]
  },
  {
   "cell_type": "code",
   "execution_count": 6,
   "metadata": {
    "ExecuteTime": {
     "end_time": "2020-08-08T13:51:50.612077Z",
     "start_time": "2020-08-08T13:51:42.478106Z"
    }
   },
   "outputs": [],
   "source": [
    "embeddings_dict = {}\n",
    "with open(\"glove.6B.50d.txt\", 'r') as f:\n",
    "    for line in f:\n",
    "        values = line.split()\n",
    "        word = values[0]\n",
    "        vector = np.asarray(values[1:], \"float32\")\n",
    "        embeddings_dict[word] = vector"
   ]
  },
  {
   "cell_type": "code",
   "execution_count": 7,
   "metadata": {
    "ExecuteTime": {
     "end_time": "2020-08-08T14:15:00.008417Z",
     "start_time": "2020-08-08T14:15:00.004794Z"
    }
   },
   "outputs": [],
   "source": [
    "def find_closest_embeddings(embedding):\n",
    "    return sorted(embeddings_dict.keys(), key=lambda word: spatial.distance.euclidean(embeddings_dict[word], embedding))"
   ]
  },
  {
   "cell_type": "code",
   "execution_count": 8,
   "metadata": {
    "ExecuteTime": {
     "end_time": "2020-08-08T14:27:39.701090Z",
     "start_time": "2020-08-08T14:27:35.304323Z"
    }
   },
   "outputs": [
    {
     "name": "stdout",
     "output_type": "stream",
     "text": [
      "['prince', 'queen', 'uncle', 'ii', 'grandson']\n"
     ]
    }
   ],
   "source": [
    "print(find_closest_embeddings(embeddings_dict[\"king\"])[1:6])"
   ]
  },
  {
   "cell_type": "code",
   "execution_count": 6,
   "metadata": {
    "ExecuteTime": {
     "end_time": "2020-08-07T10:16:19.702887Z",
     "start_time": "2020-08-07T10:16:16.453618Z"
    }
   },
   "outputs": [
    {
     "name": "stdout",
     "output_type": "stream",
     "text": [
      "['king', 'queen', 'prince', 'elizabeth', 'daughter']\n"
     ]
    }
   ],
   "source": [
    "print(find_closest_embeddings(embeddings_dict[\"king\"] - embeddings_dict[\"man\"] + embeddings_dict[\"woman\"]\n",
    ")[:5])"
   ]
  },
  {
   "cell_type": "code",
   "execution_count": 9,
   "metadata": {
    "ExecuteTime": {
     "end_time": "2020-08-08T14:30:33.265225Z",
     "start_time": "2020-08-08T14:30:33.259984Z"
    }
   },
   "outputs": [
    {
     "data": {
      "text/plain": [
       "array([ 0.1669   ,  0.98757  , -0.027122 , -0.29075  ,  1.1917   ,\n",
       "        0.56752  , -1.2344   ,  0.51221  , -0.69893  , -0.011795 ,\n",
       "       -0.16918  ,  1.0709   , -0.53755  , -0.10829  ,  0.77406  ,\n",
       "       -0.29525  , -0.23824  ,  0.26055  ,  0.2545   ,  0.0072983,\n",
       "       -0.11534  ,  1.2641   , -0.059262 ,  0.27406  ,  0.7965   ,\n",
       "       -2.1522   , -0.15152  , -0.3725   ,  0.068102 , -0.24862  ,\n",
       "        1.6662   , -0.36509  , -0.24184  , -0.17983  ,  0.09604  ,\n",
       "        0.083266 , -0.3055   ,  0.29688  ,  0.43182  , -0.53256  ,\n",
       "        0.41804  ,  0.88657  , -0.64102  , -0.4662   ,  0.75824  ,\n",
       "       -0.54164  , -0.5663   , -1.1662   , -0.014035 ,  0.76166  ],\n",
       "      dtype=float32)"
      ]
     },
     "execution_count": 9,
     "metadata": {},
     "output_type": "execute_result"
    }
   ],
   "source": [
    "embeddings_dict['friend']"
   ]
  },
  {
   "cell_type": "code",
   "execution_count": 10,
   "metadata": {
    "ExecuteTime": {
     "end_time": "2020-08-08T14:41:12.941131Z",
     "start_time": "2020-08-08T14:41:12.936108Z"
    }
   },
   "outputs": [
    {
     "data": {
      "text/plain": [
       "array([-0.38497 ,  0.80092 ,  0.064106, -0.28355 , -0.026759, -0.34532 ,\n",
       "       -0.64253 , -0.11729 , -0.33257 ,  0.55243 , -0.087813,  0.9035  ,\n",
       "        0.47102 ,  0.56657 ,  0.6985  , -0.35229 , -0.86542 ,  0.90573 ,\n",
       "        0.03576 , -0.071705, -0.12327 ,  0.54923 ,  0.47005 ,  0.35572 ,\n",
       "        1.2611  , -0.67581 , -0.94983 ,  0.68666 ,  0.3871  , -1.3492  ,\n",
       "        0.63512 ,  0.46416 , -0.48814 ,  0.83827 , -0.9246  , -0.33722 ,\n",
       "        0.53741 , -1.0616  , -0.081403, -0.67111 ,  0.30923 , -0.3923  ,\n",
       "       -0.55002 , -0.68827 ,  0.58049 , -0.11626 ,  0.013139, -0.57654 ,\n",
       "        0.048833,  0.67204 ], dtype=float32)"
      ]
     },
     "execution_count": 10,
     "metadata": {},
     "output_type": "execute_result"
    }
   ],
   "source": [
    "embeddings_dict['hello']"
   ]
  },
  {
   "cell_type": "code",
   "execution_count": 11,
   "metadata": {
    "ExecuteTime": {
     "end_time": "2020-08-08T14:44:18.062851Z",
     "start_time": "2020-08-08T14:44:18.057464Z"
    }
   },
   "outputs": [
    {
     "data": {
      "text/plain": [
       "array([ 0.26818 ,  0.14346 , -0.27877 ,  0.016257,  0.11384 ,  0.69923 ,\n",
       "       -0.51332 , -0.47368 , -0.33075 , -0.13834 ,  0.2702  ,  0.30938 ,\n",
       "       -0.45012 , -0.4127  , -0.09932 ,  0.038085,  0.029749,  0.10076 ,\n",
       "       -0.25058 , -0.51818 ,  0.34558 ,  0.44922 ,  0.48791 , -0.080866,\n",
       "       -0.10121 , -1.3777  , -0.10866 , -0.23201 ,  0.012839, -0.46508 ,\n",
       "        3.8463  ,  0.31362 ,  0.13643 , -0.52244 ,  0.3302  ,  0.33707 ,\n",
       "       -0.35601 ,  0.32431 ,  0.12041 ,  0.3512  , -0.069043,  0.36885 ,\n",
       "        0.25168 , -0.24517 ,  0.25381 ,  0.1367  , -0.31178 , -0.6321  ,\n",
       "       -0.25028 , -0.38097 ], dtype=float32)"
      ]
     },
     "execution_count": 11,
     "metadata": {},
     "output_type": "execute_result"
    }
   ],
   "source": [
    "embeddings_dict['and']"
   ]
  },
  {
   "cell_type": "code",
   "execution_count": null,
   "metadata": {},
   "outputs": [],
   "source": []
  }
 ],
 "metadata": {
  "kernelspec": {
   "display_name": "Python 3",
   "language": "python",
   "name": "python3"
  },
  "language_info": {
   "codemirror_mode": {
    "name": "ipython",
    "version": 3
   },
   "file_extension": ".py",
   "mimetype": "text/x-python",
   "name": "python",
   "nbconvert_exporter": "python",
   "pygments_lexer": "ipython3",
   "version": "3.7.7"
  },
  "toc": {
   "base_numbering": 1,
   "nav_menu": {},
   "number_sections": true,
   "sideBar": true,
   "skip_h1_title": false,
   "title_cell": "Table of Contents",
   "title_sidebar": "Contents",
   "toc_cell": false,
   "toc_position": {},
   "toc_section_display": true,
   "toc_window_display": false
  },
  "varInspector": {
   "cols": {
    "lenName": 16,
    "lenType": 16,
    "lenVar": 40
   },
   "kernels_config": {
    "python": {
     "delete_cmd_postfix": "",
     "delete_cmd_prefix": "del ",
     "library": "var_list.py",
     "varRefreshCmd": "print(var_dic_list())"
    },
    "r": {
     "delete_cmd_postfix": ") ",
     "delete_cmd_prefix": "rm(",
     "library": "var_list.r",
     "varRefreshCmd": "cat(var_dic_list()) "
    }
   },
   "position": {
    "height": "282px",
    "left": "1100px",
    "right": "20px",
    "top": "-32px",
    "width": "800px"
   },
   "types_to_exclude": [
    "module",
    "function",
    "builtin_function_or_method",
    "instance",
    "_Feature"
   ],
   "window_display": true
  }
 },
 "nbformat": 4,
 "nbformat_minor": 4
}
